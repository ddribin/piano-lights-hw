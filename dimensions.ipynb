{
 "cells": [
  {
   "attachments": {},
   "cell_type": "markdown",
   "metadata": {},
   "source": [
    "# Setup"
   ]
  },
  {
   "cell_type": "code",
   "execution_count": 15,
   "metadata": {},
   "outputs": [],
   "source": [
    "class Point(object):\n",
    "    __slots__ = ['x', 'y']\n",
    "\n",
    "    def __init__(self, x=0, y=0):\n",
    "        self.x = x\n",
    "        self.y = y\n",
    "\n",
    "    def __del__(self):\n",
    "        #del P destroy (delete) a point\n",
    "        class_name = self.__class__.__name__\n",
    "\n",
    "    def __add__(self, P):\n",
    "        S = Point(self.x, self.y)\n",
    "        S.x = self.x + P.x\n",
    "        S.y = self.y + P.y\n",
    "        return S\n",
    "\n",
    "    __radd__ = __add__\n",
    "\n",
    "    def __sub__(self, P):\n",
    "        R = Point(self.x, self.y)\n",
    "        R.x = self.x - P.x\n",
    "        R.y = self.y - P.y\n",
    "        return R\n",
    "\n",
    "    __rsub__ = __sub__\n",
    "\n",
    "    def __repr__(self):\n",
    "        return(f'({self.x:.2f}, {self.y:.2f})')\n",
    "    \n"
   ]
  },
  {
   "attachments": {},
   "cell_type": "markdown",
   "metadata": {},
   "source": [
    "# Calculations"
   ]
  },
  {
   "cell_type": "markdown",
   "metadata": {},
   "source": [
    "## Outline"
   ]
  },
  {
   "cell_type": "code",
   "execution_count": 16,
   "metadata": {},
   "outputs": [],
   "source": [
    "width = 98.00\n",
    "height = 48.00\n",
    "corner = 2.00\n",
    "\n",
    "left = 85.00\n",
    "top = 80\n",
    "right = left + width\n",
    "bottom = top + height\n",
    "\n",
    "top_left = Point(left, top)\n",
    "bottom_right = Point(right, bottom)\n",
    "top_right = Point(right, top)\n",
    "bottom_left = Point(left, bottom)\n",
    "\n",
    "edge_gap = 6.50\n",
    "edge_height = (height - edge_gap)/2\n",
    "edge_left_top_start = top_left\n",
    "edge_left_top_end = top_left + Point(0, edge_height)\n",
    "edge_left_bottom_start = edge_left_top_end + Point(0, edge_gap)\n",
    "edge_left_bottom_end = bottom_left\n",
    "\n",
    "edge_right_top_start = top_right\n",
    "edge_right_top_end = top_right + Point(0, edge_height)\n",
    "edge_right_bottom_start = edge_right_top_end + Point(0, edge_gap)\n",
    "edge_right_bottom_end = bottom_right"
   ]
  },
  {
   "attachments": {},
   "cell_type": "markdown",
   "metadata": {},
   "source": [
    "## Mounting Holes"
   ]
  },
  {
   "cell_type": "code",
   "execution_count": 17,
   "metadata": {},
   "outputs": [],
   "source": [
    "hole_diameter = 3.20\n",
    "hole_height = 40.64\n",
    "hole_width = 71.12\n",
    "hole_offset_x = 13.44\n",
    "hole_offset_y = (height - hole_height)/2\n",
    "\n",
    "hole_top = top + hole_offset_y\n",
    "hole_left = left + hole_offset_x\n",
    "hole_bottom = hole_top + hole_height\n",
    "hole_right = hole_left + hole_width\n",
    "\n",
    "hole_top_left = Point(hole_left, hole_top)\n",
    "hole_top_right = Point(hole_right, hole_top)\n",
    "hole_bottom_left = Point(hole_left, hole_bottom)\n",
    "hole_bottom_right = Point(hole_right, hole_bottom)"
   ]
  },
  {
   "attachments": {},
   "cell_type": "markdown",
   "metadata": {},
   "source": [
    "# Summary"
   ]
  },
  {
   "cell_type": "code",
   "execution_count": 18,
   "metadata": {},
   "outputs": [
    {
     "name": "stdout",
     "output_type": "stream",
     "text": [
      "Board:\n",
      "(85.00, 80.00)\n",
      "(183.00, 128.00)\n",
      "\n",
      "Edge left top: (85.00, 80.00) - (85.00, 100.75)\n",
      "Edge left bottom: (85.00, 107.25) - (85.00, 128.00)\n",
      "Edge right top: (183.00, 80.00) - (183.00, 100.75)\n",
      "Edge right bottom: (183.00, 107.25) - (183.00, 128.00)\n",
      "\n",
      "Mounting Holes\n",
      "H1: (98.44, 83.68)\n",
      "(169.56, 83.68)\n",
      "(98.44, 124.32)\n",
      "(169.56, 124.32)\n"
     ]
    }
   ],
   "source": [
    "print(\"Board:\")\n",
    "print(top_left)\n",
    "print(bottom_right)\n",
    "print()\n",
    "print(f'Edge left top: {edge_left_top_start} - {edge_left_top_end}')\n",
    "print(f'Edge left bottom: {edge_left_bottom_start} - {edge_left_bottom_end}')\n",
    "print(f'Edge right top: {edge_right_top_start} - {edge_right_top_end}')\n",
    "print(f'Edge right bottom: {edge_right_bottom_start} - {edge_right_bottom_end}')\n",
    "print()\n",
    "\n",
    "print(\"Mounting Holes\")\n",
    "print(f'H1: {hole_top_left}')\n",
    "print(hole_top_right)\n",
    "print(hole_bottom_left)\n",
    "print(hole_bottom_right)"
   ]
  }
 ],
 "metadata": {
  "kernelspec": {
   "display_name": "jupyter",
   "language": "python",
   "name": "python3"
  },
  "language_info": {
   "codemirror_mode": {
    "name": "ipython",
    "version": 3
   },
   "file_extension": ".py",
   "mimetype": "text/x-python",
   "name": "python",
   "nbconvert_exporter": "python",
   "pygments_lexer": "ipython3",
   "version": "3.10.10"
  },
  "orig_nbformat": 4,
  "vscode": {
   "interpreter": {
    "hash": "375838d79f2d9fae0a717d225fc5fca697f9ac6cc5bd2b4335dcc9298b0296d3"
   }
  }
 },
 "nbformat": 4,
 "nbformat_minor": 2
}
